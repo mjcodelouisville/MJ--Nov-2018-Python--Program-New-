{
 "cells": [
  {
   "cell_type": "markdown",
   "metadata": {},
   "source": [
    "# Python Course Project of MJ- Nov 2018"
   ]
  },
  {
   "cell_type": "code",
   "execution_count": 1,
   "metadata": {
    "scrolled": true
   },
   "outputs": [
    {
     "name": "stdout",
     "output_type": "stream",
     "text": [
      "SQLite Version is: 3.21.0\n",
      "DB-API Version is: 2.6.0\n"
     ]
    }
   ],
   "source": [
    "import sqlite3\n",
    "import pandas as pd\n",
    "print(\"SQLite Version is:\", sqlite3.sqlite_version)\n",
    "print(\"DB-API Version is:\", sqlite3.version)\n",
    "\n",
    "db = sqlite3.connect(\"Python_nov_project.db\")\n",
    "c = db.cursor()\n",
    "\n",
    "c.execute('''DROP TABLE IF EXISTS [PythonMJ]''')\n",
    "c.execute('''CREATE TABLE PythonMJ(TICKER, Company, T_Assets, T_Liabilities, Debt, Intangible_Assets, Equity, Debt_covered_by_Equity, Marketable_Assets, Marketable_Equity, Debt_covered_by_Marketable_Equity)''')\n",
    "c.execute('''INSERT INTO PythonMJ VALUES ('T', 'ATT', '444097', '302090', '151346', '0', NULL, NULL, NULL, NUll, NULL)''') \n",
    "c.execute('''INSERT INTO PythonMJ VALUES ('ABC', 'Fake', '345000', '205000', '120300', '189000', NULL, NULL, NULL, NULL, NULL)''')\n",
    "db.commit()"
   ]
  },
  {
   "cell_type": "code",
   "execution_count": 2,
   "metadata": {
    "scrolled": true
   },
   "outputs": [
    {
     "name": "stdout",
     "output_type": "stream",
     "text": [
      "  TICKER Company T_Assets T_Liabilities    Debt Intangible_Assets Equity  \\\n",
      "0      T     ATT   444097        302090  151346                 0   None   \n",
      "1    ABC    Fake   345000        205000  120300            189000   None   \n",
      "\n",
      "  Debt_covered_by_Equity Marketable_Assets Marketable_Equity  \\\n",
      "0                   None              None              None   \n",
      "1                   None              None              None   \n",
      "\n",
      "  Debt_covered_by_Marketable_Equity  \n",
      "0                              None  \n",
      "1                              None  \n"
     ]
    }
   ],
   "source": [
    "db = sqlite3.connect(\"Python_nov_project.db\")\n",
    "c = db.cursor()\n",
    "\n",
    "sql_plt = \"SELECT * FROM PythonMJ\"\n",
    "plt = pd.read_sql_query(sql_plt, db)\n",
    "\n",
    "print(plt)\n"
   ]
  },
  {
   "cell_type": "code",
   "execution_count": 3,
   "metadata": {
    "scrolled": false
   },
   "outputs": [
    {
     "name": "stdout",
     "output_type": "stream",
     "text": [
      "  TICKER Company T_Assets T_Liabilities    Debt Intangible_Assets Equity  \\\n",
      "0      T     ATT   444097        302090  151346                 0   None   \n",
      "1    ABC    Fake   345000        205000  120300            189000   None   \n",
      "\n",
      "  Debt_covered_by_Equity Marketable_Assets Marketable_Equity  \\\n",
      "0                   None              None              None   \n",
      "1                   None              None              None   \n",
      "\n",
      "  Debt_covered_by_Marketable_Equity  \n",
      "0                              None  \n",
      "1                              None  \n"
     ]
    }
   ],
   "source": [
    "db = sqlite3.connect(\"Python_nov_project.db\")\n",
    "c = db.cursor()\n",
    "\n",
    "c.execute('''DROP TABLE IF EXISTS [PythonMJ]''')\n",
    "c.execute('''CREATE TABLE PythonMJ(TICKER, Company, T_Assets, T_Liabilities, Debt, Intangible_Assets, Equity, Debt_covered_by_Equity, Marketable_Assets, Marketable_Equity, Debt_covered_by_Marketable_Equity)''')\n",
    "c.execute('''INSERT INTO PythonMJ VALUES ('CVG', 'Chevron', 545000, 405000, 160300, 289000, NULL, NULL, NULL, NULL, NULL)''') \n",
    "c.execute('''DELETE FROM PythonMJ \n",
    "            WHERE TICKER LIKE '%ABC%'\n",
    "            ''')\n",
    "\n",
    "c.execute('''INSERT INTO PythonMJ \n",
    "    VALUES \n",
    "        ('FB','Facebook', 84524, 10177, 6417, 20105, NULL, NULL, NULL, NULL, NULL), \n",
    "        ('GE','GeneralElectric', 371738, 286352, 179311, 143632, NULL, NULL, NULL, NULL, NULL), \n",
    "        ('WY','WeyerhaeuserCo', 17791, 8892, 6503, 325, NULL, NULL, NULL, NULL, NULL), \n",
    "        ('XOM','ExxonMobil', 348691, 154191, 69229, 0, NULL, NULL, NULL, NULL, NULL),\n",
    "        ('F','FordMotor', 247734, 212030, 172179, 0, NULL, NULL, NULL, NULL, NULL),\n",
    "        ('BUD','AnheuserBusch', 244910, 164690, 116499, 186814, NULL, NULL, NULL, NULL, NULL)\n",
    "        ''')\n",
    "\n",
    "sql_plt = \"SELECT * FROM PythonMJ\"\n",
    "\n",
    "print(plt)\n",
    "\n",
    "db.commit()\n",
    "\n"
   ]
  },
  {
   "cell_type": "code",
   "execution_count": 4,
   "metadata": {},
   "outputs": [],
   "source": [
    "db = sqlite3.connect(\"Python_nov_project.db\")\n",
    "c = db.cursor()\n",
    "\n",
    "c.execute('''UPDATE PythonMJ SET Equity = T_Assets - T_Liabilities''')\n",
    "\n",
    "\n",
    "db.commit()\n",
    "db.close()"
   ]
  },
  {
   "cell_type": "code",
   "execution_count": 5,
   "metadata": {},
   "outputs": [],
   "source": [
    "db = sqlite3.connect(\"Python_nov_project.db\")\n",
    "c = db.cursor()\n",
    "\n",
    "c.execute('''UPDATE PythonMJ SET Debt_covered_by_Equity = Debt / Equity''')\n",
    "\n",
    "db.commit()\n",
    "db.close()"
   ]
  },
  {
   "cell_type": "code",
   "execution_count": 6,
   "metadata": {},
   "outputs": [],
   "source": [
    "db = sqlite3.connect(\"Python_nov_project.db\")\n",
    "c = db.cursor()\n",
    "\n",
    "c.execute('''UPDATE PythonMJ SET Marketable_Assets = T_Assets - Intangible_Assets''')\n",
    "\n",
    "db.commit()    \n",
    "db.close()"
   ]
  },
  {
   "cell_type": "code",
   "execution_count": 7,
   "metadata": {},
   "outputs": [],
   "source": [
    "db = sqlite3.connect(\"Python_nov_project.db\")\n",
    "c = db.cursor()\n",
    "\n",
    "c.execute('''UPDATE PythonMJ SET Marketable_Equity = Marketable_Assets - T_Liabilities''')\n",
    "\n",
    "db.commit()\n",
    "db.close()"
   ]
  },
  {
   "cell_type": "code",
   "execution_count": 25,
   "metadata": {},
   "outputs": [],
   "source": [
    "db = sqlite3.connect(\"Python_nov_project.db\")\n",
    "c = db.cursor()\n",
    "\n",
    "c.execute('''UPDATE PythonMJ SET Debt_covered_by_Marketable_Equity = round(Debt*1.0 / Marketable_Equity, 2)''')\n",
    "\n",
    "db.commit()\n",
    "db.close()"
   ]
  },
  {
   "cell_type": "code",
   "execution_count": null,
   "metadata": {},
   "outputs": [],
   "source": []
  }
 ],
 "metadata": {
  "celltoolbar": "Tags",
  "kernelspec": {
   "display_name": "Python 3",
   "language": "python",
   "name": "python3"
  },
  "language_info": {
   "codemirror_mode": {
    "name": "ipython",
    "version": 3
   },
   "file_extension": ".py",
   "mimetype": "text/x-python",
   "name": "python",
   "nbconvert_exporter": "python",
   "pygments_lexer": "ipython3",
   "version": "3.6.4"
  }
 },
 "nbformat": 4,
 "nbformat_minor": 2
}
